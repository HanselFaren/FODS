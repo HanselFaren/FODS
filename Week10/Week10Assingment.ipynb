{
  "nbformat": 4,
  "nbformat_minor": 0,
  "metadata": {
    "colab": {
      "provenance": []
    },
    "kernelspec": {
      "name": "python3",
      "display_name": "Python 3"
    },
    "language_info": {
      "name": "python"
    }
  },
  "cells": [
    {
      "cell_type": "code",
      "execution_count": 2,
      "metadata": {
        "id": "o1sVu2Thdw0C"
      },
      "outputs": [],
      "source": [
        "import pandas as pd\n",
        "from math import sqrt\n",
        "import numpy as np"
      ]
    },
    {
      "cell_type": "code",
      "source": [
        "mdf = pd.read_csv('movies.csv')\n",
        "rdf = pd.read_csv('ratings.csv')\n",
        "mdf.info()\n",
        "rdf.info()"
      ],
      "metadata": {
        "colab": {
          "base_uri": "https://localhost:8080/"
        },
        "id": "U1Jqp7J5dzJl",
        "outputId": "05e25b64-3af5-4970-8877-2454b1922d41"
      },
      "execution_count": 3,
      "outputs": [
        {
          "output_type": "stream",
          "name": "stdout",
          "text": [
            "<class 'pandas.core.frame.DataFrame'>\n",
            "RangeIndex: 9742 entries, 0 to 9741\n",
            "Data columns (total 3 columns):\n",
            " #   Column   Non-Null Count  Dtype \n",
            "---  ------   --------------  ----- \n",
            " 0   movieId  9742 non-null   int64 \n",
            " 1   title    9742 non-null   object\n",
            " 2   genres   9742 non-null   object\n",
            "dtypes: int64(1), object(2)\n",
            "memory usage: 228.5+ KB\n",
            "<class 'pandas.core.frame.DataFrame'>\n",
            "RangeIndex: 100836 entries, 0 to 100835\n",
            "Data columns (total 4 columns):\n",
            " #   Column     Non-Null Count   Dtype  \n",
            "---  ------     --------------   -----  \n",
            " 0   userId     100836 non-null  int64  \n",
            " 1   movieId    100836 non-null  int64  \n",
            " 2   rating     100836 non-null  float64\n",
            " 3   timestamp  100836 non-null  int64  \n",
            "dtypes: float64(1), int64(3)\n",
            "memory usage: 3.1 MB\n"
          ]
        }
      ]
    },
    {
      "cell_type": "code",
      "source": [
        "userInput = [{'title':'RoboCop (1987)', 'rating':3},\n",
        "             {'title':'Who Framed Roger Rabbit? (1988)', 'rating':5},\n",
        "             {'title':'House on Haunted Hill (1999)', 'rating':2},\n",
        "             {'title':'Being John Malkovich (1999)', 'rating':4},\n",
        "             {'title':'Bone Collector, The (1999)', 'rating':2}]\n",
        "inputMovies = pd.DataFrame(userInput)\n",
        "print(inputMovies)"
      ],
      "metadata": {
        "colab": {
          "base_uri": "https://localhost:8080/"
        },
        "id": "OWW9eXRWdzXk",
        "outputId": "abf75af4-a835-492c-a9a8-d2c130b99c22"
      },
      "execution_count": 4,
      "outputs": [
        {
          "output_type": "stream",
          "name": "stdout",
          "text": [
            "                             title  rating\n",
            "0                   RoboCop (1987)       3\n",
            "1  Who Framed Roger Rabbit? (1988)       5\n",
            "2     House on Haunted Hill (1999)       2\n",
            "3      Being John Malkovich (1999)       4\n",
            "4       Bone Collector, The (1999)       2\n"
          ]
        }
      ]
    },
    {
      "cell_type": "code",
      "source": [
        "inputId = mdf[mdf['title'].isin(inputMovies['title'].tolist())]\n",
        "inputMovies = pd.merge(inputId, inputMovies)\n",
        "inputMovies = inputMovies.drop('genres', 1) #we don't really need this at the moment\n",
        "inputMovies = inputMovies[['movieId','title','rating']]\n",
        "print(inputMovies)"
      ],
      "metadata": {
        "colab": {
          "base_uri": "https://localhost:8080/"
        },
        "id": "9ENKdwxidzpS",
        "outputId": "7812e3be-be7e-4c7c-a804-ccd1adffab33"
      },
      "execution_count": 5,
      "outputs": [
        {
          "output_type": "stream",
          "name": "stdout",
          "text": [
            "   movieId                            title  rating\n",
            "0     2985                   RoboCop (1987)       3\n",
            "1     2987  Who Framed Roger Rabbit? (1988)       5\n",
            "2     2995     House on Haunted Hill (1999)       2\n",
            "3     2997      Being John Malkovich (1999)       4\n",
            "4     3005       Bone Collector, The (1999)       2\n"
          ]
        },
        {
          "output_type": "stream",
          "name": "stderr",
          "text": [
            "<ipython-input-5-ab865ed8630a>:3: FutureWarning: In a future version of pandas all arguments of DataFrame.drop except for the argument 'labels' will be keyword-only\n",
            "  inputMovies = inputMovies.drop('genres', 1) #we don't really need this at the moment\n"
          ]
        }
      ]
    },
    {
      "cell_type": "code",
      "source": [
        "userSubset = rdf[rdf['movieId'].isin(inputMovies['movieId'].tolist())]\n",
        "print(userSubset.groupby('movieId').count())"
      ],
      "metadata": {
        "colab": {
          "base_uri": "https://localhost:8080/"
        },
        "id": "Az5ctJMxdz0z",
        "outputId": "d630deb5-c051-43f1-d4c3-f3cb78c77ccd"
      },
      "execution_count": 6,
      "outputs": [
        {
          "output_type": "stream",
          "name": "stdout",
          "text": [
            "         userId  rating  timestamp\n",
            "movieId                           \n",
            "2985         70      70         70\n",
            "2987         97      97         97\n",
            "2995         14      14         14\n",
            "2997         99      99         99\n",
            "3005         25      25         25\n"
          ]
        }
      ]
    },
    {
      "cell_type": "code",
      "source": [
        "#Groupby creates several sub dataframes where they all have the same value in the column specified as the parameter\n",
        "userSubsetGroup = userSubset.groupby(['userId'])\n",
        "\n",
        "def take_5_elem(x):\n",
        "  # print (len(x[1]))\n",
        "  return len(x[1])\n",
        "    \n",
        "\n",
        "#Sorting it so users with movie most in common with the input will have priority\n",
        "userSubsetGroup = sorted(userSubsetGroup, key=take_5_elem, reverse=True)\n",
        "\n",
        "userSubsetGroup = userSubsetGroup[0:100]\n",
        "print(userSubsetGroup[0:5])"
      ],
      "metadata": {
        "colab": {
          "base_uri": "https://localhost:8080/"
        },
        "id": "ehPz6Htfd0AV",
        "outputId": "e49bb299-6c98-4c00-e989-e825b386d37c"
      },
      "execution_count": 7,
      "outputs": [
        {
          "output_type": "stream",
          "name": "stdout",
          "text": [
            "[(19,       userId  movieId  rating  timestamp\n",
            "2831      19     2985     3.0  965703785\n",
            "2832      19     2987     5.0  965709047\n",
            "2833      19     2995     2.0  965705322\n",
            "2834      19     2997     4.0  965705619\n",
            "2835      19     3005     2.0  965711873), (68,        userId  movieId  rating   timestamp\n",
            "10832      68     2985     3.0  1233381010\n",
            "10833      68     2987     2.5  1158531994\n",
            "10836      68     2995     2.0  1269123657\n",
            "10837      68     2997     4.5  1158530999\n",
            "10839      68     3005     4.0  1158535433), (274,        userId  movieId  rating   timestamp\n",
            "39722     274     2985     3.5  1171756231\n",
            "39724     274     2987     4.0  1171428374\n",
            "39725     274     2995     3.5  1171828813\n",
            "39726     274     2997     4.0  1222883767\n",
            "39728     274     3005     3.5  1285027059), (608,        userId  movieId  rating   timestamp\n",
            "99108     608     2985     2.0  1117408311\n",
            "99110     608     2987     3.0  1117490688\n",
            "99111     608     2995     3.0  1117507097\n",
            "99112     608     2997     2.0  1117503035\n",
            "99113     608     3005     3.5  1117415460), (135,        userId  movieId  rating   timestamp\n",
            "20547     135     2985     4.0  1009693129\n",
            "20548     135     2987     5.0  1009693305\n",
            "20549     135     2997     4.0  1009691846\n",
            "20550     135     3005     4.0  1009691292)]\n"
          ]
        }
      ]
    },
    {
      "cell_type": "code",
      "source": [
        "#Store the Pearson Correlation in a dictionary, where the key is the user Id and the value is the coefficient\n",
        "pearsonCorrelationDict = {}\n",
        "\n",
        "#For every user group in our subset\n",
        "for name, group in userSubsetGroup:\n",
        "  \n",
        "  #Let's start by sorting the input and current user group so the values aren't mixed up later on\n",
        "  group = group.sort_values(by='movieId')\n",
        "  inputMovies = inputMovies.sort_values(by='movieId')\n",
        "  \n",
        "  #Get the N for the formula\n",
        "  nRatings = len(group)\n",
        "  \n",
        "  #Get the review scores for the movies that they both have in common\n",
        "  temp_df = inputMovies[inputMovies['movieId'].isin(group['movieId'].tolist())]\n",
        "  \n",
        "  #And then store them in a temporary buffer variable in a list format to facilitate future calculations\n",
        "  tempRatingList = temp_df['rating'].tolist()\n",
        "  \n",
        "  #Let's also put the current user group reviews in a list format\n",
        "  tempGroupList = group['rating'].tolist()\n",
        "  \n",
        "  \n",
        "  #Now let's calculate the pearson correlation between two users, so called, x and y manually (check the formula from week 7 slide)\n",
        "  Sxx = sum([i**2 for i in tempRatingList]) - pow(sum(tempRatingList),2)/float(nRatings)\n",
        "  Syy = sum([i**2 for i in tempGroupList]) - pow(sum(tempGroupList),2)/float(nRatings)\n",
        "  Sxy = sum( i*j for i, j in zip(tempRatingList, tempGroupList)) - sum(tempRatingList)*sum(tempGroupList)/float(nRatings)\n",
        "  \n",
        "  #If the denominator is different than zero, then divide, else, 0 correlation.\n",
        "  if Sxx != 0 and Syy != 0:\n",
        "    pearsonCorrelationDict[name] = Sxy/sqrt(Sxx*Syy)\n",
        "  else:\n",
        "      pearsonCorrelationDict[name] = 0"
      ],
      "metadata": {
        "id": "cyna_TXTd0LK"
      },
      "execution_count": 8,
      "outputs": []
    },
    {
      "cell_type": "code",
      "source": [
        "pearsonDF = pd.DataFrame.from_dict(pearsonCorrelationDict, orient='index')\n",
        "pearsonDF.columns = ['similarityIndex']\n",
        "pearsonDF['userId'] = pearsonDF.index\n",
        "pearsonDF.index = range(len(pearsonDF))\n",
        "print(pearsonDF.head())"
      ],
      "metadata": {
        "colab": {
          "base_uri": "https://localhost:8080/"
        },
        "id": "wUlb9jSud0YE",
        "outputId": "784ef945-5462-48f1-a7fc-b8617c549508"
      },
      "execution_count": 9,
      "outputs": [
        {
          "output_type": "stream",
          "name": "stdout",
          "text": [
            "   similarityIndex  userId\n",
            "0         1.000000      19\n",
            "1         0.055480      68\n",
            "2         0.910182     274\n",
            "3        -0.342997     608\n",
            "4         0.774597     135\n"
          ]
        }
      ]
    },
    {
      "cell_type": "code",
      "source": [
        "topUsers=pearsonDF.sort_values(by='similarityIndex', ascending=False)[0:50]\n",
        "print(topUsers.head())"
      ],
      "metadata": {
        "colab": {
          "base_uri": "https://localhost:8080/"
        },
        "id": "8jbq4BvoekJ0",
        "outputId": "fbd066ce-ec6a-40f8-da34-6ffe9e167ef9"
      },
      "execution_count": 10,
      "outputs": [
        {
          "output_type": "stream",
          "name": "stdout",
          "text": [
            "    similarityIndex  userId\n",
            "0               1.0      19\n",
            "64              1.0     328\n",
            "80              1.0     577\n",
            "39              1.0     101\n",
            "40              1.0     115\n"
          ]
        }
      ]
    },
    {
      "cell_type": "code",
      "source": [
        "topUsersRating=topUsers.merge(rdf, left_on='userId', right_on='userId', how='inner')\n",
        "print(topUsersRating.head(100))"
      ],
      "metadata": {
        "colab": {
          "base_uri": "https://localhost:8080/"
        },
        "id": "EASHrmQUfCF4",
        "outputId": "a9124d24-576b-4c58-d26e-2ff709cb76ed"
      },
      "execution_count": 11,
      "outputs": [
        {
          "output_type": "stream",
          "name": "stdout",
          "text": [
            "    similarityIndex  userId  movieId  rating  timestamp\n",
            "0               1.0      19        1     4.0  965705637\n",
            "1               1.0      19        2     3.0  965704331\n",
            "2               1.0      19        3     3.0  965707636\n",
            "3               1.0      19        7     2.0  965706657\n",
            "4               1.0      19       10     2.0  965709556\n",
            "..              ...     ...      ...     ...        ...\n",
            "95              1.0      19      466     3.0  965707518\n",
            "96              1.0      19      468     3.0  965706967\n",
            "97              1.0      19      472     2.0  965707518\n",
            "98              1.0      19      474     3.0  965710914\n",
            "99              1.0      19      480     2.0  965703785\n",
            "\n",
            "[100 rows x 5 columns]\n"
          ]
        }
      ]
    },
    {
      "cell_type": "code",
      "source": [
        "#Multiplies the similarity by the user’s ratings\n",
        "topUsersRating['weightedRating'] = topUsersRating['similarityIndex']*topUsersRating['rating']\n",
        "print(topUsersRating.head())"
      ],
      "metadata": {
        "colab": {
          "base_uri": "https://localhost:8080/"
        },
        "id": "gYSD-qSYfUe4",
        "outputId": "f1e46b06-61a8-407f-9fc7-9dbdf37e07d4"
      },
      "execution_count": 12,
      "outputs": [
        {
          "output_type": "stream",
          "name": "stdout",
          "text": [
            "   similarityIndex  userId  movieId  rating  timestamp  weightedRating\n",
            "0              1.0      19        1     4.0  965705637             4.0\n",
            "1              1.0      19        2     3.0  965704331             3.0\n",
            "2              1.0      19        3     3.0  965707636             3.0\n",
            "3              1.0      19        7     2.0  965706657             2.0\n",
            "4              1.0      19       10     2.0  965709556             2.0\n"
          ]
        }
      ]
    },
    {
      "cell_type": "code",
      "source": [
        "#Applies a sum to the topUsers after grouping it up by movieId\n",
        "tempTopUsersRating = topUsersRating.groupby('movieId').sum()[['similarityIndex','weightedRating']]\n",
        "tempTopUsersRating.columns = ['sum_similarityIndex','sum_weightedRating']\n",
        "print(tempTopUsersRating.head())"
      ],
      "metadata": {
        "colab": {
          "base_uri": "https://localhost:8080/"
        },
        "id": "7Jm8EEVefYV6",
        "outputId": "1953e31a-25b1-4733-e960-5177b82c90e6"
      },
      "execution_count": 13,
      "outputs": [
        {
          "output_type": "stream",
          "name": "stdout",
          "text": [
            "         sum_similarityIndex  sum_weightedRating\n",
            "movieId                                         \n",
            "1                  23.672737           96.735466\n",
            "2                  17.474596           54.847297\n",
            "3                   8.479583           25.002818\n",
            "4                   0.397360            0.596040\n",
            "5                   5.345766           12.239764\n"
          ]
        }
      ]
    },
    {
      "cell_type": "code",
      "source": [
        "#Creates an empty dataframe\n",
        "recommendation_df = pd.DataFrame()\n",
        "\n",
        "#Now we take the weighted average\n",
        "recommendation_df['weighted average recommendation score'] = tempTopUsersRating['sum_weightedRating']/tempTopUsersRating['sum_similarityIndex']\n",
        "\n",
        "\n",
        "\n",
        "recommendation_df['movieId'] = tempTopUsersRating.index\n",
        "print(recommendation_df.head(10))"
      ],
      "metadata": {
        "colab": {
          "base_uri": "https://localhost:8080/"
        },
        "id": "bRohApKAfm12",
        "outputId": "fa66059d-f93a-4cb7-a3d5-2e3a97195967"
      },
      "execution_count": 14,
      "outputs": [
        {
          "output_type": "stream",
          "name": "stdout",
          "text": [
            "         weighted average recommendation score  movieId\n",
            "movieId                                                \n",
            "1                                     4.086366        1\n",
            "2                                     3.138688        2\n",
            "3                                     2.948591        3\n",
            "4                                     1.500000        4\n",
            "5                                     2.289618        5\n",
            "6                                     3.865589        6\n",
            "7                                     2.618817        7\n",
            "8                                     3.000000        8\n",
            "9                                     1.500000        9\n",
            "10                                    3.343711       10\n"
          ]
        }
      ]
    },
    {
      "cell_type": "code",
      "source": [
        "recommendation_df = recommendation_df.sort_values(by='weighted average recommendation score', ascending=False)\n",
        "print(recommendation_df.head(10))"
      ],
      "metadata": {
        "id": "KiJdYHGlhS1k",
        "outputId": "abcaedee-3671-4225-a8da-81d68e43c0b5",
        "colab": {
          "base_uri": "https://localhost:8080/"
        }
      },
      "execution_count": 15,
      "outputs": [
        {
          "output_type": "stream",
          "name": "stdout",
          "text": [
            "         weighted average recommendation score  movieId\n",
            "movieId                                                \n",
            "4495                                       5.0     4495\n",
            "170705                                     5.0   170705\n",
            "44193                                      5.0    44193\n",
            "26073                                      5.0    26073\n",
            "72171                                      5.0    72171\n",
            "88448                                      5.0    88448\n",
            "2654                                       5.0     2654\n",
            "89118                                      5.0    89118\n",
            "26326                                      5.0    26326\n",
            "67618                                      5.0    67618\n"
          ]
        }
      ]
    },
    {
      "cell_type": "code",
      "source": [
        "recommended_movie=mdf.loc[mdf['movieId'].isin(recommendation_df['movieId'])]\n",
        "\n",
        "#we don't want to recommend the same movie\n",
        "recommended_movie=recommended_movie.loc[~recommended_movie.movieId.isin(userSubset['movieId'])]\n",
        "\n",
        "print(recommended_movie.loc[1000:1006,:])"
      ],
      "metadata": {
        "id": "kq0RDJWwhVuh",
        "outputId": "9ccb0b00-e551-4daf-acb4-258b1c4a41f6",
        "colab": {
          "base_uri": "https://localhost:8080/"
        }
      },
      "execution_count": 16,
      "outputs": [
        {
          "output_type": "stream",
          "name": "stdout",
          "text": [
            "      movieId                                              title  \\\n",
            "1000     1302                             Field of Dreams (1989)   \n",
            "1001     1303                  Man Who Would Be King, The (1975)   \n",
            "1002     1304          Butch Cassidy and the Sundance Kid (1969)   \n",
            "1003     1305                                Paris, Texas (1984)   \n",
            "1004     1306  Until the End of the World (Bis ans Ende der W...   \n",
            "1005     1307                     When Harry Met Sally... (1989)   \n",
            "\n",
            "                      genres  \n",
            "1000  Children|Drama|Fantasy  \n",
            "1001         Adventure|Drama  \n",
            "1002          Action|Western  \n",
            "1003           Drama|Romance  \n",
            "1004  Adventure|Drama|Sci-Fi  \n",
            "1005          Comedy|Romance  \n"
          ]
        }
      ]
    }
  ]
}